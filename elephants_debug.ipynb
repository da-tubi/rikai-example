{
 "cells": [
  {
   "cell_type": "code",
   "execution_count": 1,
   "id": "ab9483b0-194a-4339-977c-d555f153b4dc",
   "metadata": {},
   "outputs": [],
   "source": [
    "import mlflow\n",
    "mlflow.set_tracking_uri(\"sqlite:///mlruns.db\")\n",
    "model = mlflow.pytorch.load_model(\"runs:/b9b29ead98d84d8192a6f6e83d386c0d/model\")"
   ]
  },
  {
   "cell_type": "code",
   "execution_count": 2,
   "id": "2acc87a6-e2f9-4321-8c4a-71552f69800a",
   "metadata": {},
   "outputs": [],
   "source": [
    "from transform.yolov5 import pre_processing\n",
    "from transform.yolov5 import post_processing\n",
    "pre_f = pre_processing({})\n",
    "post_f = post_processing({})"
   ]
  },
  {
   "cell_type": "code",
   "execution_count": 3,
   "id": "73973bd4-7113-49a9-8fb5-9611275f2965",
   "metadata": {},
   "outputs": [
    {
     "data": {
      "text/plain": [
       "torch.Size([3, 640, 640])"
      ]
     },
     "execution_count": 3,
     "metadata": {},
     "output_type": "execute_result"
    }
   ],
   "source": [
    "input = pre_f(\"img/lena.png\")\n",
    "input.shape"
   ]
  },
  {
   "cell_type": "code",
   "execution_count": 4,
   "id": "d5728789-5f53-47e4-9fbe-eae5e4a39647",
   "metadata": {},
   "outputs": [],
   "source": [
    "import torch"
   ]
  },
  {
   "cell_type": "code",
   "execution_count": 5,
   "id": "78cd5ec6-4419-4434-9b1c-503e4342cc7d",
   "metadata": {},
   "outputs": [
    {
     "data": {
      "text/plain": [
       "torch.Size([2, 3, 640, 640])"
      ]
     },
     "execution_count": 5,
     "metadata": {},
     "output_type": "execute_result"
    }
   ],
   "source": [
    "input2 = torch.stack([input, input])\n",
    "input2.shape"
   ]
  },
  {
   "cell_type": "code",
   "execution_count": 6,
   "id": "c74d569f-4250-465f-9316-5e0b704aec5f",
   "metadata": {},
   "outputs": [],
   "source": [
    "pred = model(input2)"
   ]
  },
  {
   "cell_type": "code",
   "execution_count": 7,
   "id": "89cb86ac-1c39-42ac-b9b8-580bcdad21ad",
   "metadata": {},
   "outputs": [
    {
     "data": {
      "text/plain": [
       "torch.Size([2, 25200, 85])"
      ]
     },
     "execution_count": 7,
     "metadata": {},
     "output_type": "execute_result"
    }
   ],
   "source": [
    "pred[0].shape"
   ]
  },
  {
   "cell_type": "code",
   "execution_count": 8,
   "id": "1fadc61d-6278-43d6-a59a-bc146a5d7bdf",
   "metadata": {},
   "outputs": [
    {
     "data": {
      "text/plain": [
       "[{'boxes': [array([530, 338, 639, 384])], 'label_ids': [0], 'scores': [0.41]},\n",
       " {'boxes': [array([530, 338, 639, 384])], 'label_ids': [0], 'scores': [0.41]}]"
      ]
     },
     "execution_count": 8,
     "metadata": {},
     "output_type": "execute_result"
    }
   ],
   "source": [
    "post_f(pred)"
   ]
  },
  {
   "cell_type": "code",
   "execution_count": null,
   "id": "a3b6eb98-b0ca-4a8d-99c2-86f180d2ff5f",
   "metadata": {},
   "outputs": [],
   "source": []
  }
 ],
 "metadata": {
  "kernelspec": {
   "display_name": "Python 3 (ipykernel)",
   "language": "python",
   "name": "python3"
  },
  "language_info": {
   "codemirror_mode": {
    "name": "ipython",
    "version": 3
   },
   "file_extension": ".py",
   "mimetype": "text/x-python",
   "name": "python",
   "nbconvert_exporter": "python",
   "pygments_lexer": "ipython3",
   "version": "3.8.10"
  }
 },
 "nbformat": 4,
 "nbformat_minor": 5
}
