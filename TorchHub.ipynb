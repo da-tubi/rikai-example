{
 "cells": [
  {
   "cell_type": "code",
   "execution_count": 1,
   "id": "8191bee8-307a-42e6-a453-4fdd401da755",
   "metadata": {},
   "outputs": [
    {
     "name": "stdout",
     "output_type": "stream",
     "text": [
      ":: loading settings :: url = jar:file:/Users/da/.pyenv/versions/3.8.10/envs/rikai-example/lib/python3.8/site-packages/pyspark/jars/ivy-2.4.0.jar!/org/apache/ivy/core/settings/ivysettings.xml\n"
     ]
    },
    {
     "name": "stderr",
     "output_type": "stream",
     "text": [
      "Ivy Default Cache set to: /Users/da/.ivy2/cache\n",
      "The jars for the packages stored in: /Users/da/.ivy2/jars\n",
      "ai.eto#rikai_2.12 added as a dependency\n",
      ":: resolving dependencies :: org.apache.spark#spark-submit-parent-aacc0286-d7c1-49df-acea-d616937c43e3;1.0\n",
      "\tconfs: [default]\n",
      "\tfound ai.eto#rikai_2.12;0.0.20 in central\n",
      "\tfound org.antlr#antlr4-runtime;4.8-1 in local-m2-cache\n",
      "\tfound com.thoughtworks.enableIf#enableif_2.12;1.1.7 in central\n",
      "\tfound org.xerial.snappy#snappy-java;1.1.8.4 in central\n",
      "\tfound com.typesafe.scala-logging#scala-logging_2.12;3.9.4 in central\n",
      "\tfound org.slf4j#slf4j-api;1.7.30 in spark-list\n",
      "\tfound io.circe#circe-core_2.12;0.12.3 in central\n",
      "\tfound io.circe#circe-numbers_2.12;0.12.3 in central\n",
      "\tfound org.typelevel#cats-core_2.12;2.0.0 in central\n",
      "\tfound org.typelevel#cats-macros_2.12;2.0.0 in central\n",
      "\tfound org.typelevel#cats-kernel_2.12;2.0.0 in central\n",
      "\tfound io.circe#circe-generic_2.12;0.12.3 in central\n",
      "\tfound com.chuusai#shapeless_2.12;2.3.3 in spark-list\n",
      "\tfound org.typelevel#macro-compat_2.12;1.1.1 in spark-list\n",
      "\tfound io.circe#circe-parser_2.12;0.12.3 in central\n",
      "\tfound io.circe#circe-jawn_2.12;0.12.3 in central\n",
      "\tfound org.typelevel#jawn-parser_2.12;0.14.2 in central\n",
      "\tfound org.mlflow#mlflow-client;1.21.0 in central\n",
      "\tfound org.apache.logging.log4j#log4j-core;2.17.1 in central\n",
      "downloading https://repo1.maven.org/maven2/ai/eto/rikai_2.12/0.0.20/rikai_2.12-0.0.20.jar ...\n",
      "\t[SUCCESSFUL ] ai.eto#rikai_2.12;0.0.20!rikai_2.12.jar (800ms)\n",
      ":: resolution report :: resolve 3364ms :: artifacts dl 810ms\n",
      "\t:: modules in use:\n",
      "\tai.eto#rikai_2.12;0.0.20 from central in [default]\n",
      "\tcom.chuusai#shapeless_2.12;2.3.3 from spark-list in [default]\n",
      "\tcom.thoughtworks.enableIf#enableif_2.12;1.1.7 from central in [default]\n",
      "\tcom.typesafe.scala-logging#scala-logging_2.12;3.9.4 from central in [default]\n",
      "\tio.circe#circe-core_2.12;0.12.3 from central in [default]\n",
      "\tio.circe#circe-generic_2.12;0.12.3 from central in [default]\n",
      "\tio.circe#circe-jawn_2.12;0.12.3 from central in [default]\n",
      "\tio.circe#circe-numbers_2.12;0.12.3 from central in [default]\n",
      "\tio.circe#circe-parser_2.12;0.12.3 from central in [default]\n",
      "\torg.antlr#antlr4-runtime;4.8-1 from local-m2-cache in [default]\n",
      "\torg.apache.logging.log4j#log4j-core;2.17.1 from central in [default]\n",
      "\torg.mlflow#mlflow-client;1.21.0 from central in [default]\n",
      "\torg.slf4j#slf4j-api;1.7.30 from spark-list in [default]\n",
      "\torg.typelevel#cats-core_2.12;2.0.0 from central in [default]\n",
      "\torg.typelevel#cats-kernel_2.12;2.0.0 from central in [default]\n",
      "\torg.typelevel#cats-macros_2.12;2.0.0 from central in [default]\n",
      "\torg.typelevel#jawn-parser_2.12;0.14.2 from central in [default]\n",
      "\torg.typelevel#macro-compat_2.12;1.1.1 from spark-list in [default]\n",
      "\torg.xerial.snappy#snappy-java;1.1.8.4 from central in [default]\n",
      "\t:: evicted modules:\n",
      "\torg.slf4j#slf4j-api;1.7.25 by [org.slf4j#slf4j-api;1.7.30] in [default]\n",
      "\t---------------------------------------------------------------------\n",
      "\t|                  |            modules            ||   artifacts   |\n",
      "\t|       conf       | number| search|dwnlded|evicted|| number|dwnlded|\n",
      "\t---------------------------------------------------------------------\n",
      "\t|      default     |   20  |   1   |   1   |   1   ||   19  |   1   |\n",
      "\t---------------------------------------------------------------------\n",
      ":: retrieving :: org.apache.spark#spark-submit-parent-aacc0286-d7c1-49df-acea-d616937c43e3\n",
      "\tconfs: [default]\n",
      "\t1 artifacts copied, 18 already retrieved (295kB/14ms)\n",
      "22/01/14 14:26:03 WARN NativeCodeLoader: Unable to load native-hadoop library for your platform... using builtin-java classes where applicable\n",
      "Using Spark's default log4j profile: org/apache/spark/log4j-defaults.properties\n",
      "Setting default log level to \"WARN\".\n",
      "To adjust logging level use sc.setLogLevel(newLevel). For SparkR, use setLogLevel(newLevel).\n"
     ]
    }
   ],
   "source": [
    "from rikai.spark.utils import init_spark_session\n",
    "\n",
    "rikai_version='0.0.20'\n",
    "\n",
    "spark = init_spark_session(\n",
    "    dict(\n",
    "        [\n",
    "            (\n",
    "                \"spark.jars.packages\",\n",
    "                \",\".join(\n",
    "                    [\n",
    "                        \"ai.eto:rikai_2.12:{}\".format(rikai_version),\n",
    "                    ]\n",
    "                ),\n",
    "            ),\n",
    "            (\n",
    "                \"spark.rikai.sql.ml.registry.torchhub.impl\",\n",
    "                \"ai.eto.rikai.sql.model.torchhub.TorchHubRegistry\",\n",
    "            ),\n",
    "        ]\n",
    "    )\n",
    ")"
   ]
  },
  {
   "cell_type": "code",
   "execution_count": 5,
   "id": "46b98eed-b3a9-42cb-8ebb-7500e35d856e",
   "metadata": {},
   "outputs": [
    {
     "name": "stderr",
     "output_type": "stream",
     "text": [
      "22/01/14 14:27:52 WARN SimpleFunctionRegistry: The function to_image replaced a previously registered function.\n"
     ]
    },
    {
     "data": {
      "text/plain": [
       "'v0.9.1'"
      ]
     },
     "execution_count": 5,
     "metadata": {},
     "output_type": "execute_result"
    }
   ],
   "source": [
    "from rikai.spark.functions import to_image\n",
    "spark.udf.register(\"to_image\", to_image)\n",
    "\n",
    "import torchvision\n",
    "torchvision_v = f\"v{torchvision.__version__.split('+', maxsplit=1)[0]}\"\n",
    "torchvision_v"
   ]
  },
  {
   "cell_type": "code",
   "execution_count": 6,
   "id": "dc783e4e-551e-46dd-b29d-18423d5250ce",
   "metadata": {},
   "outputs": [
    {
     "data": {
      "text/plain": [
       "DataFrame[]"
      ]
     },
     "execution_count": 6,
     "metadata": {},
     "output_type": "execute_result"
    }
   ],
   "source": [
    "spark.sql(\"\"\"\n",
    "CREATE MODEL resnet18\n",
    "USING \"torchhub:///pytorch/vision:v0.9.1/resnet18\";\n",
    "\"\"\")"
   ]
  },
  {
   "cell_type": "code",
   "execution_count": 7,
   "id": "698ace13-ca54-4bd0-a03b-efaf63ec7be2",
   "metadata": {},
   "outputs": [],
   "source": [
    "result = spark.sql(\"\"\"\n",
    "select ML_PREDICT(resnet18, to_image('https://github.com/eto-ai/rikai/raw/main/python/tests/assets/test_image.jpg')) as pred\n",
    "\"\"\"\n",
    ")"
   ]
  },
  {
   "cell_type": "code",
   "execution_count": 8,
   "id": "e37313d4-81dc-4191-83d1-c89695be5576",
   "metadata": {},
   "outputs": [
    {
     "name": "stderr",
     "output_type": "stream",
     "text": [
      "Using cache found in /Users/da/.cache/torch/hub/pytorch_vision_v0.9.10 + 1) / 1]\n"
     ]
    },
    {
     "name": "stdout",
     "output_type": "stream",
     "text": [
      "+--------------------+\n",
      "|                pred|\n",
      "+--------------------+\n",
      "|[0.8495411, -1.58...|\n",
      "+--------------------+\n",
      "\n"
     ]
    },
    {
     "name": "stderr",
     "output_type": "stream",
     "text": [
      "                                                                                \r"
     ]
    }
   ],
   "source": [
    "result.show()"
   ]
  },
  {
   "cell_type": "code",
   "execution_count": null,
   "id": "2de881ee-5497-4d89-bdf8-a176ad10c4b2",
   "metadata": {},
   "outputs": [],
   "source": []
  }
 ],
 "metadata": {
  "kernelspec": {
   "display_name": "Python 3 (ipykernel)",
   "language": "python",
   "name": "python3"
  },
  "language_info": {
   "codemirror_mode": {
    "name": "ipython",
    "version": 3
   },
   "file_extension": ".py",
   "mimetype": "text/x-python",
   "name": "python",
   "nbconvert_exporter": "python",
   "pygments_lexer": "ipython3",
   "version": "3.8.10"
  }
 },
 "nbformat": 4,
 "nbformat_minor": 5
}
